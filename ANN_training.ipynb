{
 "cells": [
  {
   "cell_type": "code",
   "execution_count": 2,
   "metadata": {},
   "outputs": [
    {
     "name": "stderr",
     "output_type": "stream",
     "text": [
      "Using TensorFlow backend.\n"
     ]
    }
   ],
   "source": [
    "%matplotlib inline\n",
    "import matplotlib.pyplot as plt\n",
    "import pandas as pd\n",
    "import numpy as np\n",
    "import keras.backend as K\n",
    "from keras.models import Sequential,model_from_json\n",
    "from keras.layers import Dense\n",
    "from keras.optimizers import SGD, Adam\n",
    "from sklearn.model_selection import train_test_split\n",
    "import scipy.io as io"
   ]
  },
  {
   "cell_type": "code",
   "execution_count": 3,
   "metadata": {},
   "outputs": [],
   "source": [
    "hungry = io.loadmat(\"hungry_ANN.mat\")\n",
    "spasm = io.loadmat(\"spasm_ANN.mat\")\n",
    "#SPASM = 1\n",
    "#HUNGRY = 0\n",
    "\n",
    "hungry_dataset = hungry['hungry']\n",
    "spasm_dataser = spasm['spasm']\n",
    "\n",
    "dataset=np.row_stack((hungry_dataset,spasm_dataser))\n",
    "np.random.shuffle(dataset)\n",
    "ip_shuff = np.delete(dataset, 50, 1)\n",
    "op_shuff = dataset[:,50]"
   ]
  },
  {
   "cell_type": "code",
   "execution_count": 4,
   "metadata": {},
   "outputs": [],
   "source": [
    "op_shuff=op_shuff.astype(int)"
   ]
  },
  {
   "cell_type": "code",
   "execution_count": 5,
   "metadata": {},
   "outputs": [],
   "source": [
    "lis = []\n",
    "for i in ip_shuff:\n",
    "    ar = i/max(i)\n",
    "    lis.extend([ar.tolist()])\n",
    "ip_shuff_nor = np.array(lis)"
   ]
  },
  {
   "cell_type": "code",
   "execution_count": 6,
   "metadata": {},
   "outputs": [],
   "source": [
    "X_train, X_test, y_train, y_test = train_test_split(ip_shuff, op_shuff ,\n",
    "                                                    test_size=0.2,\n",
    "                                                    random_state=42)"
   ]
  },
  {
   "cell_type": "code",
   "execution_count": 6,
   "metadata": {},
   "outputs": [
    {
     "data": {
      "text/plain": [
       "(400, 50)"
      ]
     },
     "execution_count": 6,
     "metadata": {},
     "output_type": "execute_result"
    }
   ],
   "source": [
    "ip_shuff_nor.shape"
   ]
  },
  {
   "cell_type": "code",
   "execution_count": 7,
   "metadata": {},
   "outputs": [
    {
     "name": "stdout",
     "output_type": "stream",
     "text": [
      "Epoch 1/100\n",
      "320/320 [==============================] - 0s 362us/step - loss: 0.8071 - acc: 0.4938\n",
      "Epoch 2/100\n",
      "320/320 [==============================] - 0s 63us/step - loss: 0.7916 - acc: 0.4938\n",
      "Epoch 3/100\n",
      "320/320 [==============================] - 0s 85us/step - loss: 0.7771 - acc: 0.4938\n",
      "Epoch 4/100\n",
      "320/320 [==============================] - 0s 79us/step - loss: 0.7636 - acc: 0.4938\n",
      "Epoch 5/100\n",
      "320/320 [==============================] - 0s 95us/step - loss: 0.7510 - acc: 0.4938\n",
      "Epoch 6/100\n",
      "320/320 [==============================] - 0s 78us/step - loss: 0.7394 - acc: 0.4938\n",
      "Epoch 7/100\n",
      "320/320 [==============================] - 0s 81us/step - loss: 0.7286 - acc: 0.4938\n",
      "Epoch 8/100\n",
      "320/320 [==============================] - 0s 88us/step - loss: 0.7189 - acc: 0.4938\n",
      "Epoch 9/100\n",
      "320/320 [==============================] - 0s 77us/step - loss: 0.7100 - acc: 0.4938\n",
      "Epoch 10/100\n",
      "320/320 [==============================] - 0s 144us/step - loss: 0.7020 - acc: 0.4938\n",
      "Epoch 11/100\n",
      "320/320 [==============================] - 0s 83us/step - loss: 0.6949 - acc: 0.4938\n",
      "Epoch 12/100\n",
      "320/320 [==============================] - 0s 87us/step - loss: 0.6885 - acc: 0.4938\n",
      "Epoch 13/100\n",
      "320/320 [==============================] - 0s 98us/step - loss: 0.6827 - acc: 0.4938\n",
      "Epoch 14/100\n",
      "320/320 [==============================] - 0s 71us/step - loss: 0.6777 - acc: 0.4938\n",
      "Epoch 15/100\n",
      "320/320 [==============================] - 0s 97us/step - loss: 0.6731 - acc: 0.4938\n",
      "Epoch 16/100\n",
      "320/320 [==============================] - 0s 65us/step - loss: 0.6692 - acc: 0.4938\n",
      "Epoch 17/100\n",
      "320/320 [==============================] - 0s 82us/step - loss: 0.6655 - acc: 0.4938\n",
      "Epoch 18/100\n",
      "320/320 [==============================] - 0s 90us/step - loss: 0.6624 - acc: 0.4938\n",
      "Epoch 19/100\n",
      "320/320 [==============================] - 0s 85us/step - loss: 0.6594 - acc: 0.4938\n",
      "Epoch 20/100\n",
      "320/320 [==============================] - 0s 104us/step - loss: 0.6570 - acc: 0.4938\n",
      "Epoch 21/100\n",
      "320/320 [==============================] - 0s 85us/step - loss: 0.6546 - acc: 0.4938\n",
      "Epoch 22/100\n",
      "320/320 [==============================] - 0s 78us/step - loss: 0.6525 - acc: 0.4938\n",
      "Epoch 23/100\n",
      "320/320 [==============================] - 0s 94us/step - loss: 0.6507 - acc: 0.4938\n",
      "Epoch 24/100\n",
      "320/320 [==============================] - 0s 91us/step - loss: 0.6490 - acc: 0.4938\n",
      "Epoch 25/100\n",
      "320/320 [==============================] - 0s 89us/step - loss: 0.6474 - acc: 0.4938\n",
      "Epoch 26/100\n",
      "320/320 [==============================] - 0s 79us/step - loss: 0.6460 - acc: 0.4969\n",
      "Epoch 27/100\n",
      "320/320 [==============================] - 0s 101us/step - loss: 0.6446 - acc: 0.5156\n",
      "Epoch 28/100\n",
      "320/320 [==============================] - 0s 94us/step - loss: 0.6434 - acc: 0.8156\n",
      "Epoch 29/100\n",
      "320/320 [==============================] - 0s 94us/step - loss: 0.6421 - acc: 0.9781\n",
      "Epoch 30/100\n",
      "320/320 [==============================] - 0s 104us/step - loss: 0.6411 - acc: 1.0000\n",
      "Epoch 31/100\n",
      "320/320 [==============================] - 0s 89us/step - loss: 0.6399 - acc: 1.0000\n",
      "Epoch 32/100\n",
      "320/320 [==============================] - 0s 93us/step - loss: 0.6390 - acc: 1.0000\n",
      "Epoch 33/100\n",
      "320/320 [==============================] - 0s 96us/step - loss: 0.6381 - acc: 1.0000\n",
      "Epoch 34/100\n",
      "320/320 [==============================] - 0s 68us/step - loss: 0.6370 - acc: 1.0000\n",
      "Epoch 35/100\n",
      "320/320 [==============================] - 0s 70us/step - loss: 0.6361 - acc: 1.0000\n",
      "Epoch 36/100\n",
      "320/320 [==============================] - 0s 76us/step - loss: 0.6352 - acc: 1.0000\n",
      "Epoch 37/100\n",
      "320/320 [==============================] - 0s 94us/step - loss: 0.6342 - acc: 1.0000\n",
      "Epoch 38/100\n",
      "320/320 [==============================] - 0s 72us/step - loss: 0.6334 - acc: 1.0000\n",
      "Epoch 39/100\n",
      "320/320 [==============================] - 0s 92us/step - loss: 0.6326 - acc: 1.0000\n",
      "Epoch 40/100\n",
      "320/320 [==============================] - 0s 107us/step - loss: 0.6316 - acc: 1.0000\n",
      "Epoch 41/100\n",
      "320/320 [==============================] - 0s 93us/step - loss: 0.6309 - acc: 1.0000\n",
      "Epoch 42/100\n",
      "320/320 [==============================] - 0s 93us/step - loss: 0.6300 - acc: 1.0000\n",
      "Epoch 43/100\n",
      "320/320 [==============================] - 0s 89us/step - loss: 0.6292 - acc: 1.0000\n",
      "Epoch 44/100\n",
      "320/320 [==============================] - 0s 92us/step - loss: 0.6283 - acc: 1.0000\n",
      "Epoch 45/100\n",
      "320/320 [==============================] - 0s 75us/step - loss: 0.6276 - acc: 1.0000\n",
      "Epoch 46/100\n",
      "320/320 [==============================] - 0s 69us/step - loss: 0.6267 - acc: 1.0000\n",
      "Epoch 47/100\n",
      "320/320 [==============================] - 0s 93us/step - loss: 0.6259 - acc: 1.0000\n",
      "Epoch 48/100\n",
      "320/320 [==============================] - 0s 63us/step - loss: 0.6251 - acc: 1.0000\n",
      "Epoch 49/100\n",
      "320/320 [==============================] - 0s 84us/step - loss: 0.6243 - acc: 1.0000\n",
      "Epoch 50/100\n",
      "320/320 [==============================] - 0s 84us/step - loss: 0.6236 - acc: 1.0000\n",
      "Epoch 51/100\n",
      "320/320 [==============================] - 0s 82us/step - loss: 0.6227 - acc: 1.0000\n",
      "Epoch 52/100\n",
      "320/320 [==============================] - 0s 89us/step - loss: 0.6218 - acc: 1.0000\n",
      "Epoch 53/100\n",
      "320/320 [==============================] - 0s 78us/step - loss: 0.6210 - acc: 1.0000\n",
      "Epoch 54/100\n",
      "320/320 [==============================] - 0s 90us/step - loss: 0.6202 - acc: 1.0000\n",
      "Epoch 55/100\n",
      "320/320 [==============================] - 0s 90us/step - loss: 0.6194 - acc: 1.0000\n",
      "Epoch 56/100\n",
      "320/320 [==============================] - 0s 81us/step - loss: 0.6185 - acc: 1.0000\n",
      "Epoch 57/100\n",
      "320/320 [==============================] - 0s 77us/step - loss: 0.6177 - acc: 1.0000\n",
      "Epoch 58/100\n",
      "320/320 [==============================] - 0s 92us/step - loss: 0.6169 - acc: 1.0000\n",
      "Epoch 59/100\n",
      "320/320 [==============================] - 0s 98us/step - loss: 0.6160 - acc: 1.0000\n",
      "Epoch 60/100\n",
      "320/320 [==============================] - 0s 105us/step - loss: 0.6153 - acc: 1.0000\n",
      "Epoch 61/100\n",
      "320/320 [==============================] - 0s 80us/step - loss: 0.6144 - acc: 1.0000\n",
      "Epoch 62/100\n",
      "320/320 [==============================] - 0s 103us/step - loss: 0.6137 - acc: 1.0000\n",
      "Epoch 63/100\n",
      "320/320 [==============================] - 0s 79us/step - loss: 0.6127 - acc: 1.0000\n",
      "Epoch 64/100\n",
      "320/320 [==============================] - 0s 104us/step - loss: 0.6119 - acc: 1.0000\n",
      "Epoch 65/100\n",
      "320/320 [==============================] - 0s 87us/step - loss: 0.6110 - acc: 1.0000\n",
      "Epoch 66/100\n",
      "320/320 [==============================] - 0s 84us/step - loss: 0.6101 - acc: 1.0000\n",
      "Epoch 67/100\n",
      "320/320 [==============================] - 0s 67us/step - loss: 0.6093 - acc: 1.0000\n",
      "Epoch 68/100\n",
      "320/320 [==============================] - 0s 92us/step - loss: 0.6085 - acc: 1.0000\n",
      "Epoch 69/100\n",
      "320/320 [==============================] - 0s 67us/step - loss: 0.6077 - acc: 1.0000\n",
      "Epoch 70/100\n",
      "320/320 [==============================] - 0s 95us/step - loss: 0.6067 - acc: 1.0000\n",
      "Epoch 71/100\n",
      "320/320 [==============================] - 0s 71us/step - loss: 0.6059 - acc: 1.0000\n",
      "Epoch 72/100\n",
      "320/320 [==============================] - 0s 90us/step - loss: 0.6050 - acc: 1.0000\n",
      "Epoch 73/100\n",
      "320/320 [==============================] - 0s 69us/step - loss: 0.6042 - acc: 1.0000\n",
      "Epoch 74/100\n",
      "320/320 [==============================] - 0s 84us/step - loss: 0.6032 - acc: 1.0000\n",
      "Epoch 75/100\n",
      "320/320 [==============================] - 0s 81us/step - loss: 0.6025 - acc: 1.0000\n",
      "Epoch 76/100\n",
      "320/320 [==============================] - 0s 67us/step - loss: 0.6016 - acc: 1.0000\n",
      "Epoch 77/100\n",
      "320/320 [==============================] - 0s 78us/step - loss: 0.6007 - acc: 1.0000\n",
      "Epoch 78/100\n",
      "320/320 [==============================] - 0s 74us/step - loss: 0.5999 - acc: 1.0000\n",
      "Epoch 79/100\n",
      "320/320 [==============================] - 0s 82us/step - loss: 0.5989 - acc: 1.0000\n",
      "Epoch 80/100\n",
      "320/320 [==============================] - 0s 64us/step - loss: 0.5980 - acc: 1.0000\n",
      "Epoch 81/100\n",
      "320/320 [==============================] - 0s 81us/step - loss: 0.5972 - acc: 1.0000\n",
      "Epoch 82/100\n",
      "320/320 [==============================] - 0s 71us/step - loss: 0.5963 - acc: 1.0000\n",
      "Epoch 83/100\n",
      "320/320 [==============================] - 0s 75us/step - loss: 0.5953 - acc: 1.0000\n",
      "Epoch 84/100\n",
      "320/320 [==============================] - 0s 73us/step - loss: 0.5946 - acc: 1.0000\n",
      "Epoch 85/100\n",
      "320/320 [==============================] - 0s 69us/step - loss: 0.5936 - acc: 1.0000\n",
      "Epoch 86/100\n",
      "320/320 [==============================] - 0s 72us/step - loss: 0.5927 - acc: 1.0000\n",
      "Epoch 87/100\n",
      "320/320 [==============================] - 0s 56us/step - loss: 0.5917 - acc: 1.0000\n",
      "Epoch 88/100\n",
      "320/320 [==============================] - 0s 65us/step - loss: 0.5908 - acc: 1.0000\n",
      "Epoch 89/100\n",
      "320/320 [==============================] - 0s 61us/step - loss: 0.5900 - acc: 1.0000\n",
      "Epoch 90/100\n",
      "320/320 [==============================] - 0s 79us/step - loss: 0.5890 - acc: 1.0000\n",
      "Epoch 91/100\n",
      "320/320 [==============================] - 0s 65us/step - loss: 0.5881 - acc: 1.0000\n",
      "Epoch 92/100\n",
      "320/320 [==============================] - 0s 72us/step - loss: 0.5872 - acc: 1.0000\n",
      "Epoch 93/100\n",
      "320/320 [==============================] - 0s 73us/step - loss: 0.5863 - acc: 1.0000\n",
      "Epoch 94/100\n",
      "320/320 [==============================] - 0s 66us/step - loss: 0.5853 - acc: 1.0000\n",
      "Epoch 95/100\n",
      "320/320 [==============================] - 0s 71us/step - loss: 0.5844 - acc: 1.0000\n",
      "Epoch 96/100\n",
      "320/320 [==============================] - 0s 66us/step - loss: 0.5835 - acc: 1.0000\n",
      "Epoch 97/100\n",
      "320/320 [==============================] - 0s 72us/step - loss: 0.5825 - acc: 1.0000\n",
      "Epoch 98/100\n",
      "320/320 [==============================] - 0s 78us/step - loss: 0.5816 - acc: 1.0000\n",
      "Epoch 99/100\n",
      "320/320 [==============================] - 0s 76us/step - loss: 0.5806 - acc: 1.0000\n",
      "Epoch 100/100\n",
      "320/320 [==============================] - 0s 79us/step - loss: 0.5797 - acc: 1.0000\n"
     ]
    },
    {
     "data": {
      "text/plain": [
       "<keras.callbacks.History at 0x7f9788d4b9e8>"
      ]
     },
     "execution_count": 7,
     "metadata": {},
     "output_type": "execute_result"
    }
   ],
   "source": [
    "K.clear_session()\n",
    "model = Sequential()\n",
    "model.add(Dense(25, input_dim=50, activation='sigmoid'))\n",
    "#model.add(Dense(15, activation='sigmoid'))\n",
    "#model.add(Dense(10, activation='sigmoid'))\n",
    "model.add(Dense(4, activation='tanh'))\n",
    "model.add(Dense(1, activation='sigmoid'))\n",
    "model.compile(SGD(lr=0.0019), 'binary_crossentropy', metrics=['accuracy'])\n",
    "model.fit(X_train, y_train,epochs=100)\n",
    "# model = Sequential()\n",
    "# model.add(Dense(25, input_dim=50, activation='relu'))\n",
    "# #model.add(Dense(64, activation='relu'))\n",
    "# model.add(Dense(1, activation='sigmoid'))\n",
    "# model.compile(Adam(lr=0.0019), 'binary_crossentropy', metrics=['accuracy'])\n",
    "# model.fit(X_train, y_train,epochs=100)"
   ]
  },
  {
   "cell_type": "code",
   "execution_count": 8,
   "metadata": {},
   "outputs": [
    {
     "name": "stdout",
     "output_type": "stream",
     "text": [
      "80/80 [==============================] - 0s 403us/step\n"
     ]
    },
    {
     "data": {
      "text/plain": [
       "[0.57718632221221922, 1.0]"
      ]
     },
     "execution_count": 8,
     "metadata": {},
     "output_type": "execute_result"
    }
   ],
   "source": [
    "model.evaluate(X_test, y_test)"
   ]
  },
  {
   "cell_type": "code",
   "execution_count": 9,
   "metadata": {},
   "outputs": [],
   "source": [
    "model_json = model.to_json()\n",
    "with open(\"crybaby.json\", \"w\") as json_file:\n",
    "    json_file.write(model_json)"
   ]
  },
  {
   "cell_type": "code",
   "execution_count": 7,
   "metadata": {},
   "outputs": [],
   "source": [
    "from sklearn import svm"
   ]
  },
  {
   "cell_type": "code",
   "execution_count": 8,
   "metadata": {},
   "outputs": [],
   "source": [
    "clf = svm.SVC()"
   ]
  },
  {
   "cell_type": "code",
   "execution_count": 26,
   "metadata": {
    "scrolled": false
   },
   "outputs": [
    {
     "data": {
      "text/plain": [
       "SVC(C=1.0, cache_size=200, class_weight=None, coef0=0.0,\n",
       "  decision_function_shape='ovr', degree=3, gamma='auto', kernel='rbf',\n",
       "  max_iter=-1, probability=False, random_state=None, shrinking=True,\n",
       "  tol=0.001, verbose=False)"
      ]
     },
     "execution_count": 26,
     "metadata": {},
     "output_type": "execute_result"
    }
   ],
   "source": [
    "clf.fit(X_train, y_train) "
   ]
  },
  {
   "cell_type": "code",
   "execution_count": 23,
   "metadata": {},
   "outputs": [
    {
     "data": {
      "text/plain": [
       "1"
      ]
     },
     "execution_count": 23,
     "metadata": {},
     "output_type": "execute_result"
    }
   ],
   "source": [
    "n=X_train[0].reshape(1, -1)\n",
    "clf.predict(n)"
   ]
  },
  {
   "cell_type": "code",
   "execution_count": 10,
   "metadata": {},
   "outputs": [
    {
     "data": {
      "text/plain": [
       "array([1, 1, 1, 0, 0, 1, 1, 0, 1, 0, 0, 0, 1, 0, 0, 0, 0, 1, 0, 1, 0, 1, 0,\n",
       "       0, 1, 1, 0, 0, 1, 0, 0, 1, 1, 0, 1, 1, 1, 1, 1, 0, 1, 0, 1, 1, 0, 1,\n",
       "       0, 0, 0, 1, 1, 1, 1, 1, 0, 0, 1, 0, 1, 1, 0, 0, 0, 1, 1, 1, 0, 0, 0,\n",
       "       1, 0, 0, 1, 0, 0, 0, 1, 0, 0, 0])"
      ]
     },
     "execution_count": 10,
     "metadata": {},
     "output_type": "execute_result"
    }
   ],
   "source": [
    "y_test"
   ]
  },
  {
   "cell_type": "code",
   "execution_count": 11,
   "metadata": {},
   "outputs": [],
   "source": [
    "y_pred = clf.predict(X_test)"
   ]
  },
  {
   "cell_type": "code",
   "execution_count": 12,
   "metadata": {
    "scrolled": true
   },
   "outputs": [
    {
     "data": {
      "text/plain": [
       "array([1, 1, 1, 0, 0, 1, 1, 0, 1, 0, 0, 0, 1, 0, 0, 0, 0, 1, 0, 1, 0, 1, 0,\n",
       "       0, 1, 1, 0, 0, 1, 0, 0, 1, 1, 0, 1, 1, 1, 1, 1, 0, 1, 0, 1, 1, 0, 1,\n",
       "       0, 0, 0, 1, 1, 1, 1, 1, 0, 0, 1, 0, 1, 1, 0, 0, 0, 1, 1, 1, 0, 0, 0,\n",
       "       1, 0, 0, 1, 0, 0, 0, 1, 0, 0, 0])"
      ]
     },
     "execution_count": 12,
     "metadata": {},
     "output_type": "execute_result"
    }
   ],
   "source": [
    "y_pred "
   ]
  },
  {
   "cell_type": "code",
   "execution_count": 13,
   "metadata": {},
   "outputs": [],
   "source": [
    "from sklearn.metrics import accuracy_score"
   ]
  },
  {
   "cell_type": "code",
   "execution_count": 14,
   "metadata": {
    "scrolled": true
   },
   "outputs": [
    {
     "data": {
      "text/plain": [
       "1.0"
      ]
     },
     "execution_count": 14,
     "metadata": {},
     "output_type": "execute_result"
    }
   ],
   "source": [
    "accuracy_score(y_test,y_pred)"
   ]
  },
  {
   "cell_type": "code",
   "execution_count": 16,
   "metadata": {},
   "outputs": [
    {
     "data": {
      "text/plain": [
       "['svm.pkl']"
      ]
     },
     "execution_count": 16,
     "metadata": {},
     "output_type": "execute_result"
    }
   ],
   "source": [
    "from sklearn.externals import joblib\n",
    "joblib.dump(clf, 'svm.pkl')"
   ]
  }
 ],
 "metadata": {
  "kernelspec": {
   "display_name": "Python 3",
   "language": "python",
   "name": "python3"
  },
  "language_info": {
   "codemirror_mode": {
    "name": "ipython",
    "version": 3
   },
   "file_extension": ".py",
   "mimetype": "text/x-python",
   "name": "python",
   "nbconvert_exporter": "python",
   "pygments_lexer": "ipython3",
   "version": "3.6.5"
  }
 },
 "nbformat": 4,
 "nbformat_minor": 2
}
